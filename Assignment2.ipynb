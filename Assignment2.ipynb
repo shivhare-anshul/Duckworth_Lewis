{
 "cells": [
  {
   "cell_type": "code",
   "execution_count": 1,
   "metadata": {
    "id": "w8flcSykMXNw"
   },
   "outputs": [],
   "source": [
    "import pandas as pd\n",
    "import numpy as np\n",
    "import matplotlib.pyplot as plt\n",
    "pd.options.mode.chained_assignment = None  # default='warn'\n",
    "from scipy.optimize import curve_fit"
   ]
  },
  {
   "cell_type": "code",
   "execution_count": 2,
   "metadata": {
    "id": "Pp9WdwWhMczp"
   },
   "outputs": [],
   "source": [
    "Cricket_data=pd.read_csv('04_cricket_1999to2011.csv')\n",
    "df = Cricket_data.copy()"
   ]
  },
  {
   "cell_type": "code",
   "execution_count": 3,
   "metadata": {
    "id": "y_863Bbwu75K"
   },
   "outputs": [],
   "source": [
    "#b=0.035\n",
    "def run_prediction_func1(u,z,b):\n",
    "    return z*(1-np.exp(-b*u))"
   ]
  },
  {
   "cell_type": "code",
   "execution_count": 4,
   "metadata": {
    "id": "zFScIm9ZOTSo"
   },
   "outputs": [],
   "source": [
    "def run_prediction_func2(u,z,l):\n",
    "    return z*(1-np.exp(-l*u))"
   ]
  },
  {
   "cell_type": "code",
   "execution_count": 5,
   "metadata": {
    "colab": {
     "base_uri": "https://localhost:8080/",
     "height": 417
    },
    "id": "LNfqR4YCMk41",
    "outputId": "05f70e54-5ef0-426f-8a44-a44a12dafe05"
   },
   "outputs": [],
   "source": [
    "#Cleaning of Data\n",
    "#Dropping 2nd innings data\n",
    "df.drop(df.index[(df[\"Innings\"]>1)],axis=0,inplace=True)\n",
    "df.reset_index(drop=True, inplace=True)\n",
    "#Note: we have to reindex the data after dropping rows\n",
    "\n",
    "#Dropping rows where Error.in.data column is 1\n",
    "for i, rowi in df.iterrows():\n",
    "    error=rowi['Error.In.Data']\n",
    "    if(error==1):\n",
    "        df.drop(df.index[i],axis=0,inplace=True)\n",
    "            \n",
    "df.reset_index(drop=True, inplace=True)\n",
    "#Note: we have to reindex the data after dropping rows\n",
    "df = df[['Match','Innings.Total.Runs','Total.Runs','Runs.Remaining','Over','Total.Overs','Wickets.in.Hand','Runs']]\n",
    "df['Remaining_overs'] = df['Total.Overs'] - df['Over']\n",
    "\n",
    "#As there is some error in Runs.Remaining column, hence we will calculate it again.\n",
    "df['Runs_scored_u_w']= df['Innings.Total.Runs'] - df['Total.Runs']\n",
    "df = df[['Match','Remaining_overs','Wickets.in.Hand','Runs_scored_u_w','Over']]\n",
    "#df"
   ]
  },
  {
   "cell_type": "code",
   "execution_count": 6,
   "metadata": {
    "id": "XH4CP1RyHfeX"
   },
   "outputs": [],
   "source": [
    "Remaining_overs_1=df['Remaining_overs'].values\n",
    "Wickets_in_Hand_1=df['Wickets.in.Hand'].values\n",
    "Runs_scored_u_w_1\t=df['Runs_scored_u_w'].values"
   ]
  },
  {
   "cell_type": "code",
   "execution_count": 7,
   "metadata": {
    "id": "yWTH_1m2Mk-C"
   },
   "outputs": [],
   "source": [
    "#Using Dictionary of Dictionary, and storing the information of every match w.r.t to first occurence of every wicket in data.\n",
    "overs_left_average = { }\n",
    "for i, rowi in df.iterrows():\n",
    "    \n",
    "    if(rowi['Wickets.in.Hand'] in overs_left_average):\n",
    "        if (rowi['Match'] in overs_left_average[rowi['Wickets.in.Hand']]):\n",
    "            pass\n",
    "        else:\n",
    "            overs_left_average[rowi['Wickets.in.Hand']][rowi['Match']]=rowi['Runs_scored_u_w']\n",
    "    else:\n",
    "        overs_left_average[rowi['Wickets.in.Hand']] = {}\n",
    "        overs_left_average[rowi['Wickets.in.Hand']][rowi['Match']]=rowi['Runs_scored_u_w']\n",
    "    \n",
    "#converting our dictionary to data frame, the Null values in data shows that match has completed without losing any more wicket\n",
    "#also here we have some anamoly in data, as few matches details are there when 8 or 7 wickets are left, that is why we can see null values in between.\n",
    "new = pd.DataFrame.from_dict(overs_left_average)\n",
    "#Finding mean of no. of runs scored w.r.t no. of wickets in hand.\n",
    "means=new.mean(skipna=True)\n",
    "\n"
   ]
  },
  {
   "cell_type": "code",
   "execution_count": 8,
   "metadata": {
    "id": "2_ZOwCMpSCOx"
   },
   "outputs": [],
   "source": [
    "#Using Dictionary of Dictionary, and storing the information of every match w.r.t to no. of overs in hand.\n",
    "def Overs_calculate(z):\n",
    "    Average_runs_perover= { }\n",
    "\n",
    "    for i, rowi in df.iterrows():\n",
    "    #print(rowi['Remaining_overs'])\n",
    "        if(rowi['Wickets.in.Hand']==z):\n",
    "            if(rowi['Remaining_overs'] in Average_runs_perover):\n",
    "                if (rowi['Match'] in Average_runs_perover[rowi['Remaining_overs']]):\n",
    "                    pass\n",
    "                else:\n",
    "                    Average_runs_perover[rowi['Remaining_overs']][rowi['Match']]=rowi['Runs_scored_u_w']\n",
    "            else:\n",
    "                Average_runs_perover[rowi['Remaining_overs']] = {}\n",
    "                Average_runs_perover[rowi['Remaining_overs']][rowi['Match']]=rowi['Runs_scored_u_w']\n",
    "      \n",
    "  #converting our dictionary to data frame, the Null values in data shows that match has completed without losing any more wicket\n",
    "  #also here we have some anamoly in data, as few matches details are there when 8 or 7 wickets are left, that is why we can see null values in between.\n",
    "    new_2 = pd.DataFrame.from_dict(Average_runs_perover)\n",
    "  #print(new_2)\n",
    "  #Finding mean of no. of runs scored w.r.t no. of overs to go.\n",
    "    means1=new_2.mean(skipna=True)\n",
    "    Runs_scored_u_w\t=means1.values\n",
    "    Remaining_overs=means1.index.values\n",
    "\n",
    "  #print(means1)\n",
    "  #average_z=means[z]\n",
    "  #print(means[z])\n",
    "  # print(means1[49])\n",
    "  # print(means1)\n",
    "\n",
    "    return Runs_scored_u_w,Remaining_overs"
   ]
  },
  {
   "cell_type": "code",
   "execution_count": 9,
   "metadata": {
    "id": "kAEbQWK3Twjx"
   },
   "outputs": [],
   "source": [
    "def DuckworthLewis20Params():\n",
    "    Z=[]\n",
    "    b=[]\n",
    "    total_error=0\n",
    "    for i in range(1,11):\n",
    "        Runs_scored_u_w,Remaining_overs=Overs_calculate(i)\n",
    "        p=[means[i],0.035]\n",
    "        total_error+=error\n",
    "        optimized_p,covar= curve_fit(run_prediction_func1,Remaining_overs,Runs_scored_u_w,p)\n",
    "        Z.append(optimized_p[0])\n",
    "        b.append(optimized_p[1])\n",
    "    \n",
    "    #print(optimized_p)\n",
    "    #print(covar)\n",
    "  # print(\"Total error\",total_error)\n",
    "    return Z,b\n"
   ]
  },
  {
   "cell_type": "code",
   "execution_count": 10,
   "metadata": {
    "id": "bPqDOd-NYSp0"
   },
   "outputs": [],
   "source": [
    "Z0, b = DuckworthLewis20Params()\n",
    "stacked_array = np.vstack((Z0, b))\n",
    "#Z0\n"
   ]
  },
  {
   "cell_type": "code",
   "execution_count": null,
   "metadata": {
    "id": "f1rZc--DjSI6"
   },
   "outputs": [],
   "source": [
    "# print(Z0)\n",
    "# print(b)"
   ]
  },
  {
   "cell_type": "code",
   "execution_count": 11,
   "metadata": {
    "colab": {
     "base_uri": "https://localhost:8080/",
     "height": 442
    },
    "id": "pkwnhuzDaA8k",
    "outputId": "55938478-3278-44c4-baf8-40a6bae2f901"
   },
   "outputs": [
    {
     "data": {
      "image/png": "[encoded data removed]",
      "text/plain": [
       "<Figure size 720x504 with 1 Axes>"
      ]
     },
     "metadata": {
      "needs_background": "light"
     },
     "output_type": "display_data"
    }
   ],
   "source": [
    "#u,z,b\n",
    "#Reqd. graph of average runs with respect to overs used\n",
    "plt.figure(figsize=(10,7))\n",
    "plt.xticks([0,5,10,15,20,25,30,35,40,45,50])\n",
    "plt.yticks([0,50,100,150,200,250,300])\n",
    "plt.xlabel('Overs Used')\n",
    "plt.ylabel('Average Runs Scored')\n",
    "x=np.arange(0,51,1)\n",
    "for i in range(10):\n",
    "    y=run_prediction_func1(x,stacked_array[0][i],stacked_array[1][i])\n",
    "    plt.plot(x,y, label='Z['+str(i+1)+']')\n",
    "    plt.legend()"
   ]
  },
  {
   "cell_type": "code",
   "execution_count": 12,
   "metadata": {
    "colab": {
     "base_uri": "https://localhost:8080/",
     "height": 622
    },
    "id": "YP7HfOwR-yGx",
    "outputId": "b572ed0c-2c0c-4183-bc9c-abfef542b11f"
   },
   "outputs": [],
   "source": [
    "df1 = Cricket_data.copy()\n",
    "#df1"
   ]
  },
  {
   "cell_type": "code",
   "execution_count": 13,
   "metadata": {
    "id": "qcrfLRRLEBXF"
   },
   "outputs": [],
   "source": [
    "#Checking the conditions for cleaning our data\n",
    "Innings1=df1[df1['Innings'] == 1]\n",
    "Innings1=Innings1[Innings1['Runs.Remaining']>0]\n",
    "Innings1=Innings1[Innings1['Wickets.in.Hand']>0]\n",
    "Innings1=Innings1[Innings1['Wickets.in.Hand']<11]"
   ]
  },
  {
   "cell_type": "code",
   "execution_count": 14,
   "metadata": {
    "id": "B99RsI3lG8wF"
   },
   "outputs": [],
   "source": [
    "runs_remaining=Innings1['Runs.Remaining'].values\n",
    "total_overs=Innings1['Total.Overs'].values\n",
    "overs_remaining=50-Innings1['Over'].values\n",
    "wickets_remaining=Innings1['Wickets.in.Hand'].values\n",
    "X1=np.vstack((overs_remaining,wickets_remaining))\n",
    "X1=X1.T\n",
    "X2data = runs_remaining"
   ]
  },
  {
   "cell_type": "code",
   "execution_count": 15,
   "metadata": {
    "id": "Ot0OyJQ2HuSi"
   },
   "outputs": [],
   "source": [
    "#using curve fit method\n",
    "def fun(u,z1,z2,z3,z4,z5,z6,z7,z8,z9,z10,l):\n",
    "    y=[]\n",
    "    x_1=(u[1])\n",
    "    x_2=(u[2])\n",
    "    for x3 in u:\n",
    "        if(x3[1]==1):\n",
    "            y.append(run_prediction_func2(x3[0],z1,l))\n",
    "        if(x3[1]==2):\n",
    "            y.append(run_prediction_func2(x3[0],z2,l))\n",
    "        if(x3[1]==3):\n",
    "            y.append(run_prediction_func2(x3[0],z3,l))\n",
    "        if(x3[1]==4):\n",
    "            y.append(run_prediction_func2(x3[0],z4,l))\n",
    "        if(x3[1]==5):\n",
    "            y.append(run_prediction_func2(x3[0],z5,l))\n",
    "        if(x3[1]==6):\n",
    "            y.append(run_prediction_func2(x3[0],z6,l))\n",
    "        if(x3[1]==7):\n",
    "            y.append(run_prediction_func2(x3[0],z7,l))\n",
    "        if(x3[1]==8):\n",
    "            y.append(run_prediction_func2(x3[0],z8,l))\n",
    "        if(x3[1]==9):\n",
    "            y.append(run_prediction_func2(x3[0],z9,l))\n",
    "        if(x3[1]==10):\n",
    "            y.append(run_prediction_func2(x3[0],z10,l))\n",
    "    #print(y)\n",
    "    #print(len(y))\n",
    "    return y\n"
   ]
  },
  {
   "cell_type": "code",
   "execution_count": 16,
   "metadata": {
    "id": "JnCmslqFOkmr"
   },
   "outputs": [],
   "source": [
    "#Taking some initial values for our parameters\n",
    "initial_p = [20.0,45.0,75.0,100.0,125.0,150.0,175.0,200.0,225.0,240.0,10.0] "
   ]
  },
  {
   "cell_type": "code",
   "execution_count": 17,
   "metadata": {
    "id": "V2dGnFmPOlB7"
   },
   "outputs": [],
   "source": [
    "#optimization\n",
    "#u,z1,z2,z3,z4,z5,z6,z7,z8,z9,z10,l\n",
    "def DuckworthLewis11Params():\n",
    "    \n",
    "    optimized_p,covar=curve_fit(fun,X1,X2data,initial_p)\n",
    "    print(optimized_p)\n",
    "    p = optimized_p\n",
    "    Z0 = [p[0], p[1], p[2], p[3],p[4],p[5],p[6],p[7],p[8],p[9]]\n",
    "    L=p[10]\n",
    "    return Z0,L\n",
    "\n",
    "# print(optimized_p)\n",
    "# print(covar)"
   ]
  },
  {
   "cell_type": "code",
   "execution_count": 18,
   "metadata": {
    "colab": {
     "base_uri": "https://localhost:8080/"
    },
    "id": "wg4HYf1xGdr3",
    "outputId": "47c3e6da-3407-44c1-bfca-0e9006aa2544"
   },
   "outputs": [
    {
     "name": "stderr",
     "output_type": "stream",
     "text": [
      "<ipython-input-4-fea82bb1864d>:2: RuntimeWarning: overflow encountered in exp\n",
      "  return z*(1-np.exp(-l*u))\n"
     ]
    },
    {
     "name": "stdout",
     "output_type": "stream",
     "text": [
      "[2.82173123e+01 5.23840012e+01 8.39792233e+01 1.12536579e+02\n",
      " 1.32019060e+02 1.56531482e+02 1.75431057e+02 1.99309859e+02\n",
      " 2.20037686e+02 2.49523264e+02 5.85157628e-02]\n"
     ]
    }
   ],
   "source": [
    "Z0, L = DuckworthLewis11Params()"
   ]
  },
  {
   "cell_type": "code",
   "execution_count": null,
   "metadata": {
    "id": "JbuBGm76ICIg"
   },
   "outputs": [],
   "source": [
    "#Z0"
   ]
  },
  {
   "cell_type": "code",
   "execution_count": null,
   "metadata": {
    "id": "PIiVAEIdIFq-"
   },
   "outputs": [],
   "source": [
    "#L"
   ]
  },
  {
   "cell_type": "markdown",
   "metadata": {
    "id": "Ln7AxrikyaDq"
   },
   "source": []
  },
  {
   "cell_type": "code",
   "execution_count": null,
   "metadata": {
    "id": "QWTTJE2wE29D"
   },
   "outputs": [],
   "source": []
  }
 ],
 "metadata": {
  "accelerator": "GPU",
  "colab": {
   "collapsed_sections": [],
   "name": "Assignment2.ipynb",
   "provenance": []
  },
  "kernelspec": {
   "display_name": "Python 3",
   "language": "python",
   "name": "python3"
  },
  "language_info": {
   "codemirror_mode": {
    "name": "ipython",
    "version": 3
   },
   "file_extension": ".py",
   "mimetype": "text/x-python",
   "name": "python",
   "nbconvert_exporter": "python",
   "pygments_lexer": "ipython3",
   "version": "3.8.3"
  }
 },
 "nbformat": 4,
 "nbformat_minor": 1
}
